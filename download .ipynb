{
 "cells": [
  {
   "cell_type": "code",
   "execution_count": 1,
   "metadata": {},
   "outputs": [],
   "source": [
    "from pymatgen.ext.matproj import MPRester\n",
    "from pymatgen.io.cif import CifWriter\n",
    "with MPRester (\"pl21UGDCwMytgocW\") as m:\n",
    "    \n",
    "    #Structure du cristal avec MP\n",
    "    structure = m.get_structure_by_material_id(\"mp-1018059\")\n",
    "    #Creation fichier CIF \n",
    "    w = CifWriter(structure)\n",
    "    w.write_file('mp-1018059.cif')"
   ]
  },
  {
   "cell_type": "markdown",
   "metadata": {},
   "source": [
    "# Références"
   ]
  },
  {
   "cell_type": "markdown",
   "metadata": {},
   "source": [
    "Cours LMAPR1492 donné par L.PIRAUX et G.-M.RIGNANESE\n",
    "Material project:https://materialsproject.org/materials/mp-1018059/\n",
    "API pymatgen:https://pymatgen.org/index.html  "
   ]
  }
 ],
 "metadata": {
  "kernelspec": {
   "display_name": "Python 3",
   "language": "python",
   "name": "python3"
  },
  "language_info": {
   "codemirror_mode": {
    "name": "ipython",
    "version": 3
   },
   "file_extension": ".py",
   "mimetype": "text/x-python",
   "name": "python",
   "nbconvert_exporter": "python",
   "pygments_lexer": "ipython3",
   "version": "3.6.8"
  }
 },
 "nbformat": 4,
 "nbformat_minor": 2
}
