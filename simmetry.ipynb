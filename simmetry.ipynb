{
 "cells": [
  {
   "cell_type": "code",
   "execution_count": 43,
   "metadata": {},
   "outputs": [],
   "source": [
    "from pymatgen.ext.matproj import MPRester\n",
    "from pymatgen.io.cif import CifWriter\n",
    "from pymatgen.core.operations import SymmOp\n",
    "with MPRester (\"pl21UGDCwMytgocW\") as m:\n",
    "    \n",
    "    #Structure du cristal avec MP\n",
    "    structure = m.get_structure_by_material_id(\"mp-1018059\")\n",
    "    #Creation fichier CIF \n",
    "    w = CifWriter(structure)\n",
    "    w.write_file('mp-1018059.cif') "
   ]
  },
  {
   "cell_type": "markdown",
   "metadata": {},
   "source": [
    "# 1) Réflexion par rapport à un plan miroir (Mirror Plane)"
   ]
  },
  {
   "cell_type": "markdown",
   "metadata": {},
   "source": [
    "La réflexion par rapport à un plan miroir est une opération de symétrie ponctuelle. Le déterminant de l'opérateur de réflexion égale -1, ce qui implique une inversion de la chiralité (opération de deuxième espèce). L'opération est dite symmorphique car elle ne contient aucune translation (vecteur de translation nul)."
   ]
  },
  {
   "cell_type": "code",
   "execution_count": 44,
   "metadata": {},
   "outputs": [
    {
     "name": "stdout",
     "output_type": "stream",
     "text": [
      "Operateur de reflexion: \n",
      " [[ 1.  0.  0.]\n",
      " [ 1. -1.  0.]\n",
      " [ 0.  0.  1.]]\n",
      "Operateur de translation: [0. 0. 0.]\n",
      "Calcul de la position finale de l atome de Ga: \n",
      " [[ 1.  0.  0.]\n",
      " [ 1. -1.  0.]\n",
      " [ 0.  0.  1.]] [0.33, 0.67, 0.0] + [0. 0. 0.] = [ 0.33 -0.34  0.  ]\n"
     ]
    }
   ],
   "source": [
    "#Creation de l'objet Mag SymmOp:\n",
    "MP = SymmOp.from_xyz_string('x, x-y, z') \n",
    "#Creation de la matrice de rotation correspondante:\n",
    "Rot1 = MP.rotation_matrix\n",
    "#Creation du vecteur de translation correspondant:\n",
    "Tra1 = MP.translation_vector\n",
    "#Coordonnees de l'atome de Ga:\n",
    "GA = [0.33,0.67,0.00/1]\n",
    "#Coordonnees de l'atome de Ga apres application du plan miroir:\n",
    "GAbis = MP.operate(GA)\n",
    "#Affichage des resultats:\n",
    "print('Operateur de reflexion:','\\n',Rot1)\n",
    "print('Operateur de translation:',Tra1)\n",
    "print('Calcul de la position finale de l atome de Ga:','\\n',Rot1,GA,'+',Tra1,'=',GAbis)"
   ]
  },
  {
   "attachments": {},
   "cell_type": "markdown",
   "metadata": {},
   "source": [
    "<img src=\"MIRRORPLANE.png\" width=\"800\" />"
   ]
  },
  {
   "cell_type": "markdown",
   "metadata": {},
   "source": [
    "# 2) Réflexion avec glissement (C-Glide Plane)"
   ]
  },
  {
   "cell_type": "markdown",
   "metadata": {},
   "source": [
    "La réflexion avec glissemnt par rapport à un plan de glissement est une opération de symétrie spatiale. Cette opération est la combinaison d'une réflexion et d'une translation. L'opération est dite non-symmorphique car elle contient une translation (vecteur de translation non-nul). Dans ce cas-ci, le glissement est dit axial car il est égal à la moitié du b-vecteur de base c."
   ]
  },
  {
   "cell_type": "code",
   "execution_count": 45,
   "metadata": {
    "scrolled": true
   },
   "outputs": [
    {
     "name": "stdout",
     "output_type": "stream",
     "text": [
      "Operateur de reflexion: \n",
      " [[0. 1. 0.]\n",
      " [1. 0. 0.]\n",
      " [0. 0. 1.]]\n",
      "Operateur de translation: [0.  0.  0.5]\n",
      "Calcul de la position finale de l atome de Sb: \n",
      " [[0. 1. 0.]\n",
      " [1. 0. 0.]\n",
      " [0. 0. 1.]] [0.33, 0.67, 0.37] + [0.  0.  0.5] = [0.67 0.33 0.87]\n"
     ]
    }
   ],
   "source": [
    "#Creation de l'objet Mag SymmOp:\n",
    "GP = SymmOp.from_xyz_string('y, x, z+1/2') \n",
    "#Creation de la matrice de rotation correspondante:\n",
    "Rot2 = GP.rotation_matrix\n",
    "#Creation du vecteur de translation correspondant:\n",
    "Tra2 = GP.translation_vector\n",
    "#Coordonnees de l'atome de Sb:\n",
    "SB = [0.33,0.67,0.37/1]\n",
    "#Coordonnees de l'atome de Sb apres la reflexion avec glissement:\n",
    "SBbis = GP.operate(SB)\n",
    "#Affichage des resultats:\n",
    "print('Operateur de reflexion:','\\n',Rot2)\n",
    "print('Operateur de translation:',Tra2)\n",
    "print('Calcul de la position finale de l atome de Sb:','\\n',Rot2,SB,'+',Tra2,'=',SBbis)"
   ]
  },
  {
   "attachments": {},
   "cell_type": "markdown",
   "metadata": {},
   "source": [
    "<img src=\"CGLIDE.png\" width=\"800\" />"
   ]
  },
  {
   "cell_type": "markdown",
   "metadata": {},
   "source": [
    "# 3) Rotation hélicoïdale d'ordre 2 (2-Fold Screw Axis)"
   ]
  },
  {
   "cell_type": "markdown",
   "metadata": {},
   "source": [
    "La rotation hélicoïdale par rapport à un axe hélicoïdal est une opération de symétrie spatiale. Cette opération est la combinaison d'une rotation et d'une translation. L'opération est dite non-symmorphique car elle contient une translation (vecteur de translation non-nul). Dans ce cas-ci, la rotation hélicoïdale est dite 2_1 (n=2 et t=1), la rotation est de 2pi/n = pi et la translation parallèle à l'axe hélicoïdal vaut la moitié du vecteur de base (1/2)."
   ]
  },
  {
   "cell_type": "code",
   "execution_count": 46,
   "metadata": {},
   "outputs": [
    {
     "name": "stdout",
     "output_type": "stream",
     "text": [
      "Operateur de reflexion: \n",
      " [[-1.  0.  0.]\n",
      " [ 0. -1.  0.]\n",
      " [ 0.  0.  1.]]\n",
      "Operateur de translation: [0.  0.  0.5]\n",
      "Calcul de la position finale de l atome de Ga: \n",
      " [[-1.  0.  0.]\n",
      " [ 0. -1.  0.]\n",
      " [ 0.  0.  1.]] [0.67, 0.33, 0.5] + [0.  0.  0.5] = [-0.67 -0.33  1.  ]\n"
     ]
    }
   ],
   "source": [
    "#Creation de l'objet Mag SymmOp:\n",
    "FSA = SymmOp.from_xyz_string('-x, -y, z+1/2') \n",
    "#Creation de la matrice de rotation correspondante:\n",
    "Rot3 = FSA.rotation_matrix\n",
    "#Creation du vecteur de translation correspondant:\n",
    "Tra3 = FSA.translation_vector\n",
    "#Coordonnees de l'atome de Ga:\n",
    "GA = [0.67,0.33,0.50/1]\n",
    "#Coordonnees de l'atome de Sb apres la reflexion avec glissement:\n",
    "GAbis = FSA.operate(GA)\n",
    "#Affichage des resultats:\n",
    "print('Operateur de reflexion:','\\n',Rot3)\n",
    "print('Operateur de translation:',Tra3)\n",
    "print('Calcul de la position finale de l atome de Ga:','\\n',Rot3,GA,'+',Tra3,'=',GAbis)"
   ]
  },
  {
   "attachments": {},
   "cell_type": "markdown",
   "metadata": {},
   "source": [
    "<img src=\"2FOLDSCREWROT.png\" width=\"800\" />\n",
    "<img src=\"2FOLDSCREWTRANS.png\" width=\"800\" />"
   ]
  }
 ],
 "metadata": {
  "kernelspec": {
   "display_name": "Python 3",
   "language": "python",
   "name": "python3"
  },
  "language_info": {
   "codemirror_mode": {
    "name": "ipython",
    "version": 3
   },
   "file_extension": ".py",
   "mimetype": "text/x-python",
   "name": "python",
   "nbconvert_exporter": "python",
   "pygments_lexer": "ipython3",
   "version": "3.6.8"
  }
 },
 "nbformat": 4,
 "nbformat_minor": 2
}
