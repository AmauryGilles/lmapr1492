{
 "cells": [
  {
   "cell_type": "code",
   "execution_count": 10,
   "metadata": {},
   "outputs": [
    {
     "name": "stdout",
     "output_type": "stream",
     "text": [
      "VECTEURS DE BASE RESEAU DIRECT: \n",
      " [[ 4.38399494  0.          0.        ]\n",
      " [-2.19199747  3.7965117   0.        ]\n",
      " [ 0.          0.          7.20701799]]\n",
      "VECTEURS DE BASE RESEAU RECIPROQUE: \n",
      " [[1.43320998 0.82749453 0.        ]\n",
      " [0.         1.65498905 0.        ]\n",
      " [0.         0.         0.87181485]]\n",
      "TYPE DE MAILLE: hexagonal\n",
      "SYSTEME CRISTALLIN: hexagonal\n",
      "GROUPE PONCTUEL: 6mm\n"
     ]
    }
   ],
   "source": [
    "from pymatgen.ext.matproj import MPRester\n",
    "from pymatgen.io.cif import CifWriter\n",
    "from pymatgen.symmetry.analyzer import SpacegroupAnalyzer\n",
    "with MPRester (\"pl21UGDCwMytgocW\") as m:\n",
    "    \n",
    "    #Structure du cristal avec MP\n",
    "    structure = m.get_structure_by_material_id(\"mp-1018059\")\n",
    "    #Creation fichier CIF \n",
    "    w = CifWriter(structure)\n",
    "    w.write_file('mp-1018059.cif')   \n",
    "\n",
    "#VECTEURS DE BASE RESEAU DIRECT:\n",
    "VBASED = structure.lattice.matrix\n",
    "\n",
    "#VECTEURS DE BASE RESEAU RECIPROQUE:\n",
    "VBASER = structure.lattice.reciprocal_lattice.matrix\n",
    "\n",
    "#TYPE DE MAILLE:\n",
    "s = SpacegroupAnalyzer(structure)\n",
    "TYPEM = s.get_lattice_type()\n",
    "\n",
    "#SYSTEME CRISTALLIN:\n",
    "SYSTC = s.get_crystal_system()\n",
    "\n",
    "#GROUPE PONCTUEL:\n",
    "GRPP = s.get_point_group_symbol()\n",
    "\n",
    "#AFFICHAGE RESULTATS:\n",
    "print('VECTEURS DE BASE RESEAU DIRECT:','\\n',VBASED)\n",
    "print('VECTEURS DE BASE RESEAU RECIPROQUE:','\\n',VBASER)\n",
    "print('TYPE DE MAILLE:',TYPEM)\n",
    "print('SYSTEME CRISTALLIN:',SYSTC)\n",
    "print('GROUPE PONCTUEL:',GRPP)    "
   ]
  }
 ],
 "metadata": {
  "kernelspec": {
   "display_name": "Python 3",
   "language": "python",
   "name": "python3"
  },
  "language_info": {
   "codemirror_mode": {
    "name": "ipython",
    "version": 3
   },
   "file_extension": ".py",
   "mimetype": "text/x-python",
   "name": "python",
   "nbconvert_exporter": "python",
   "pygments_lexer": "ipython3",
   "version": "3.6.8"
  }
 },
 "nbformat": 4,
 "nbformat_minor": 2
}
